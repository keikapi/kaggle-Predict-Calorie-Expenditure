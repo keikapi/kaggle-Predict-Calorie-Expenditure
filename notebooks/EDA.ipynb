{
 "cells": [
  {
   "cell_type": "markdown",
   "id": "78fa83a7-3a5a-4162-bc67-6b2c4799abc9",
   "metadata": {},
   "source": [
    "# EDA"
   ]
  },
  {
   "cell_type": "markdown",
   "id": "a2b59528-e47d-4771-a7a6-5775ce728955",
   "metadata": {},
   "source": [
    "## 学習データとテストデータを統合する\n",
    "all_dfを作成し、EDAの準備を行う"
   ]
  },
  {
   "cell_type": "markdown",
   "id": "c7fc6071-954e-41c3-988b-ae723ca1a6b3",
   "metadata": {},
   "source": [
    "## 変数の分布確認\n",
    "変数の正規性や外れ値、欠損値、特徴を把握する"
   ]
  },
  {
   "cell_type": "markdown",
   "id": "f50976d5-b7b3-4278-8d3d-c9e4acbc14b2",
   "metadata": {},
   "source": [
    "## 変数の加工\n",
    "データ型変換やカテゴリエンコーディング、欠損値処理等の加工を行う"
   ]
  },
  {
   "cell_type": "markdown",
   "id": "527de494-eec5-4c5f-b9b8-91c55bfd6d07",
   "metadata": {},
   "source": [
    "## 決定木系モデル(LightGBM等)による重要度計算\n",
    "モデルが推論する際にどの説明変数をどのくらい参考にしたかを確認する"
   ]
  },
  {
   "cell_type": "markdown",
   "id": "53a22c50-eba7-463d-a0ae-fa668b5eea88",
   "metadata": {},
   "source": [
    "## 変数ごとの相関把握\n",
    "目的変数と相関の低い説明変数の加工/除去や相関が高い説明変数の統一をする"
   ]
  },
  {
   "cell_type": "markdown",
   "id": "e2683414-f522-4129-858b-82995d4ecdc4",
   "metadata": {},
   "source": [
    "## 特徴量作成\n",
    "学習に用いる特徴量を作成する"
   ]
  },
  {
   "cell_type": "markdown",
   "id": "1136d291-996d-4108-885c-ca1cf9904b32",
   "metadata": {},
   "source": [
    "## 学習\n",
    "アルゴリズムを利用してモデルを学習する"
   ]
  },
  {
   "cell_type": "markdown",
   "id": "f7a42168-c460-469b-abc7-6e443ca8bf31",
   "metadata": {},
   "source": [
    "## 推論と評価\n",
    "学習済みモデルを利用して推論をし、評価結果をSagemaker experimentに登録する(このノートブックのURL含める)"
   ]
  },
  {
   "cell_type": "markdown",
   "id": "e29c96b0-60c0-499c-b25a-8cd27f332a76",
   "metadata": {},
   "source": []
  }
 ],
 "metadata": {
  "kernelspec": {
   "display_name": "Python 3 (ipykernel)",
   "language": "python",
   "name": "python3"
  },
  "language_info": {
   "codemirror_mode": {
    "name": "ipython",
    "version": 3
   },
   "file_extension": ".py",
   "mimetype": "text/x-python",
   "name": "python",
   "nbconvert_exporter": "python",
   "pygments_lexer": "ipython3",
   "version": "3.12.9"
  }
 },
 "nbformat": 4,
 "nbformat_minor": 5
}
